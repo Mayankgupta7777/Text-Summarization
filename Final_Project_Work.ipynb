{
  "cells": [
    {
      "cell_type": "markdown",
      "metadata": {
        "id": "view-in-github",
        "colab_type": "text"
      },
      "source": [
        "<a href=\"https://colab.research.google.com/github/Mayankgupta7777/Text-Summarization/blob/main/Final_Project_Work.ipynb\" target=\"_parent\"><img src=\"https://colab.research.google.com/assets/colab-badge.svg\" alt=\"Open In Colab\"/></a>"
      ]
    },
    {
      "cell_type": "code",
      "execution_count": null,
      "metadata": {
        "id": "tlpumP3FVaX1"
      },
      "outputs": [],
      "source": [
        "!pip install -q transformers"
      ]
    },
    {
      "cell_type": "code",
      "execution_count": null,
      "metadata": {
        "id": "MerNIV9hVeCy"
      },
      "outputs": [],
      "source": [
        "!pip install -q youtube_transcript_api"
      ]
    },
    {
      "cell_type": "code",
      "execution_count": null,
      "metadata": {
        "id": "S4ppPcuNVWJs"
      },
      "outputs": [],
      "source": [
        "from transformers import pipeline\n",
        "from youtube_transcript_api import YouTubeTranscriptApi\n"
      ]
    },
    {
      "cell_type": "code",
      "execution_count": null,
      "metadata": {
        "id": "nadgLmS-XGCN"
      },
      "outputs": [],
      "source": [
        "youtube_video = \"https://www.youtube.com/watch?v=EY41X9sfxlA&ab_channel=cricket.com.au\""
      ]
    },
    {
      "cell_type": "code",
      "execution_count": null,
      "metadata": {
        "id": "MugczqjFXLtr"
      },
      "outputs": [],
      "source": [
        "video_id = youtube_video.split(\"=\")[1]"
      ]
    },
    {
      "cell_type": "code",
      "execution_count": null,
      "metadata": {
        "colab": {
          "base_uri": "https://localhost:8080/",
          "height": 35
        },
        "id": "NDQTbtiqekvX",
        "outputId": "f8d4bf98-9290-4d6c-d527-5fce93b748c9"
      },
      "outputs": [
        {
          "output_type": "execute_result",
          "data": {
            "text/plain": [
              "'EY41X9sfxlA&ab_channel'"
            ],
            "application/vnd.google.colaboratory.intrinsic+json": {
              "type": "string"
            }
          },
          "metadata": {},
          "execution_count": 43
        }
      ],
      "source": [
        "video_id"
      ]
    },
    {
      "cell_type": "code",
      "execution_count": null,
      "metadata": {
        "colab": {
          "base_uri": "https://localhost:8080/",
          "height": 321
        },
        "id": "KLQNhfZBYWVe",
        "outputId": "22b94e3b-7c5d-4a54-e5e5-ecce86507abb"
      },
      "outputs": [
        {
          "output_type": "execute_result",
          "data": {
            "text/plain": [
              "<IPython.lib.display.YouTubeVideo at 0x7fa66881e3d0>"
            ],
            "text/html": [
              "\n",
              "        <iframe\n",
              "            width=\"400\"\n",
              "            height=\"300\"\n",
              "            src=\"https://www.youtube.com/embed/EY41X9sfxlA&ab_channel\"\n",
              "            frameborder=\"0\"\n",
              "            allowfullscreen\n",
              "        ></iframe>\n",
              "        "
            ]
          },
          "metadata": {},
          "execution_count": 44
        }
      ],
      "source": [
        "from IPython.display import YouTubeVideo\n",
        "YouTubeVideo(video_id)"
      ]
    },
    {
      "cell_type": "code",
      "execution_count": null,
      "metadata": {
        "id": "_sxrnhDVXXhR"
      },
      "outputs": [],
      "source": [
        "YouTubeTranscriptApi.get_transcript(video_id)\n",
        "transcript = YouTubeTranscriptApi.get_transcript(video_id)\n"
      ]
    },
    {
      "cell_type": "code",
      "execution_count": null,
      "metadata": {
        "id": "OtepAI30e7gp",
        "colab": {
          "base_uri": "https://localhost:8080/"
        },
        "outputId": "8bd0fc7d-ec12-4671-c597-0b73275d8fe0"
      },
      "outputs": [
        {
          "output_type": "execute_result",
          "data": {
            "text/plain": [
              "[{'text': 'edge this time gone', 'start': 6.0, 'duration': 6.0},\n",
              " {'text': 'good set of hands aaron finch', 'start': 9.2, 'duration': 4.8},\n",
              " {'text': 'what about the damage mitch starks doing',\n",
              "  'start': 12.0,\n",
              "  'duration': 5.719},\n",
              " {'text': 'at the top of the order', 'start': 14.0, 'duration': 3.719},\n",
              " {'text': \"crashed and that'll be four\", 'start': 18.32, 'duration': 4.719}]"
            ]
          },
          "metadata": {},
          "execution_count": 46
        }
      ],
      "source": [
        "transcript[0:5]"
      ]
    },
    {
      "cell_type": "code",
      "execution_count": null,
      "metadata": {
        "id": "yOZD8yvoVZWb",
        "colab": {
          "base_uri": "https://localhost:8080/"
        },
        "outputId": "f5e3097c-0ed2-4b64-a8bc-1044a9910e07"
      },
      "outputs": [
        {
          "output_type": "stream",
          "name": "stdout",
          "text": [
            "7440\n"
          ]
        }
      ],
      "source": [
        "result = \"\"\n",
        "for i in transcript:\n",
        "    result += ' ' + i['text']\n",
        "#print(result)\n",
        "print(len(result))"
      ]
    },
    {
      "cell_type": "code",
      "execution_count": null,
      "metadata": {
        "id": "WwzF8ncWYbu7",
        "colab": {
          "base_uri": "https://localhost:8080/"
        },
        "outputId": "1d7b1df4-6975-4ee4-d738-57afc15c6b2f"
      },
      "outputs": [
        {
          "output_type": "stream",
          "name": "stderr",
          "text": [
            "No model was supplied, defaulted to sshleifer/distilbart-cnn-12-6 and revision a4f8f3e (https://huggingface.co/sshleifer/distilbart-cnn-12-6).\n",
            "Using a pipeline without specifying a model name and revision in production is not recommended.\n"
          ]
        }
      ],
      "source": [
        "summarizer = pipeline('summarization')"
      ]
    },
    {
      "cell_type": "code",
      "execution_count": null,
      "metadata": {
        "id": "mCz2lRhAV-G4",
        "colab": {
          "base_uri": "https://localhost:8080/"
        },
        "outputId": "6a4f728a-75d0-41cb-c06e-2af7019c85fe"
      },
      "outputs": [
        {
          "output_type": "stream",
          "name": "stdout",
          "text": [
            "input text \n",
            " edge this time gone good set of hands aaron finch what about the damage mitch starks doing at the top of the order crashed and that'll be four it didn't miss i think it was faulkner at backwood point by much that's a boundary up and away have some of that all the way started well in both one day internationals and it continues so sandhu's got his first wicket it hasn't taken long either you can certainly hit the ball hard oh that should be out that's carly jumping back in the crease again and he's outsmarted himself it's a big wicket for australia a massive wicket [Applause] oh well struck that's going all the way he's latched onto that road sharma the mustard nice straight that's good batting just in the last five minutes suresh rain has started to look comfortable get involved show your energy show your athleticism given that something is given in everything what a way to go to 50. [Applause] or they take it to him first up this outfield's fast and hard it's four [Applause] has he g\n",
            "Summarized text\n",
            " sandhu's got his first wicket it hasn't taken long either you can certainly hit the ball hard oh that should be out that's carly jumping back in the crease again and he's outsmarted himself it's a big wicket for australia a massive wicket [Applause]\n",
            "input text \n",
            "ot this one yes he has sliced up and over the infield the top spin makes it difficult and it's made it eventually yeah he won't want a game off though he's in such good form we want to play everything and play a club game again it's worked well short and on the line of leg stumps not the place to boulder [Applause] 383 was too much oh inside edge very handy and that's 90 now for sharma how do you believe that's mr bales oh glided beautifully fork the turns quickly for that one because that is class like the one before yes everyone's got the big shots and loves to play the big shots but the art of being able to get bat on ball and get off strike is huge and out there's the breakthrough straight after he gets 50 he went for the big one down the ground not a good time to go thumps it down he's away we've made you aware of the ball just starting to move around a little that's the third man it's another one dana national hundred [Applause] full of class most importantly it's been an intelli\n",
            "Summarized text\n",
            " Bales has sliced up and over the infield the top spin makes it difficult and it's made it eventually yeah yeah he won't want a game off though he's in such good form we want to play everything and play a club game again . 383 was too much oh inside edge very handy and that's 90 now for sharma how do you believe that's mr bales?\n",
            "input text \n",
            "gent intelligent innings ganguly the neat hundred fork now into the attack and that'll run away fine for a boundary that's pretty easy for dhoni only come off the thigh though no it's been given runs the australians two and a half overs of extra bowling and runs and that's gone fine too fine for the third man even david warner couldn't get there scene from sharma baldi chopped it on mitchell stark that's another important wicket for australia [Applause] all close maybe too much no given him once again full straight low on the pad stark's now got [Applause] four oh he's got enough on that too great heading into the gap over the rope great finish to the over by sharma the 250s up there's a square leg back three on the offside in the deep full toss has he got in half no he hasn't straight to glenn maxwell mitchell stark's got five well batted bolt him don't worry about fifa little stark's now got six one back on the offside for ashland i can't get bad on ball we're gonna get a bye i think\n",
            "Summarized text\n",
            " Gauduly the neat hundred fork now into the attack and that'll run away fine for a boundary that's pretty easy for dhoni only come off the thigh though no it's been given runs the australians two and a half overs of extra bowling and runs and that's gone fine too fine for the third man even david warner couldn't get there .\n",
            "input text \n",
            " the finish that's nixon over from james faulkner just five from it india finished at eight for 267 run rate of 5.34 and it's time time for our new south wales and victorian viewers you're going to leave us now for the news we'll see you back here in half an hour for the australian run chase that'll be four a little bit streaky but you'll take that when you're starting your innings [Applause] responsible for letting the authorities know at the time oh that's been crunched that would have felt good off this new blade scorching the grass very nice glad you're enjoying it here's shammy and there goes shammy so yada was too expensive chubby into the attack and that was as easy as you like and he helps someone sway that's just a scoop so this bat's working for him [Applause] he's off to the back there oh this is up in the air this should be out underneath it and i water's gone suresh rainer's got the catch that is a massive wicket for india he's a kg young bowler that could well before it's\n",
            "Summarized text\n",
            " nixon over from jaulkner just five from it india finished at eight for 267 run rate of 5.34 and it's time time for our new south wales and victorian viewers you're going to leave us now for the news we'll see you back here in half an hour for the australian run chase .\n",
            "input text \n",
            " a good sign that for shane watson he's under the spinner early needs to do shane watson get himself moving second boundary oh watching down the ground with power how well is he playing tonight he loves the mcg and he's lighting it up one for 98. finch backs away cuts through the offside there's three men on the ring no one behind very quickly into position to play this shot and working out where he can score the boundary oh he's gone patel's got one on the stumps at the right pace for the sweet shot to be missed tried for the big shot just as we're talking about rotating the strike and singles just bit off a little more than he could chew there watson [Applause] [Music] around about middle and off takes aaron finch to 50 simplest of strokes well executed [Applause] oh yes there's a man in form steve smith this now as well not hurried in control of his game and feels like the team's in control of this game oh well placed that's what i meant about steve smith's hands [Applause] lovely g\n",
            "Summarized text\n",
            " Shane watson is under the spinner early needs to do shane watson get himself moving second boundary oh watching down the ground with power how well is he playing tonight he loves the mcg and he's lighting it up one for 98 . finch backs away cuts through the offside there's three men on the ring no one behind very quickly into position .\n",
            "input text \n",
            "ift he has finchy straight and long he likes the look of suresh rainer oh finchy ball straight down the ground [Applause] what a shot that is that is class steve smith is all class take another look at that after the break 291 [Applause] finch has been the most prominent with twos he's ten twos normally there's more than that steve smith his innings comes to an end robby ashford at midwicket that was another one of those slow wall bounces from shammy just 49 to win is it to try and get it over and done with quickly or just to give glenn maxwell a bit of a hit after missing out in sydney oh that's out yada back into the attack with success finch is cut short [Applause] two new batsmen even at five and over it's another game now oh he's ducked that it's hit the periscope and fallen safely how lucky can you get completely done over and somehow it flies into safety they've kept both men back down the ground for george bailey oh i think he's got him it's not only clipped his thigh pad on th\n",
            "Summarized text\n",
            " Steve smith's innings comes to an end with 49 to win . He has finchy straight and long he likes the look of suresh rainer oh finchy ball straight down the ground [Applause] Finch has been the most prominent with twos he's ten twos normally there's more .\n",
            "input text \n",
            "e way through to done his gloves but he stumped him as well moment of magic yeah you but you take a leg side catch anyway that's just as good in that scenario oh he smashed that it's come from nowhere maxwell goes to 11. stick or twist out he comes again it's flat enough to stay out of the hands of the fielder 10 off the last two an eventful over 12 runs and a wicket now there's 27 to win off 36. [Music] he's got him nicey bold kumar slower ball chipped it back and it took a good catch too he judged that well heaves it away there's the boundary one bounce and over the rope faulkner the finisher there he goes he launches here we go hits it through the offside no he doesn't hit the stump snow single have to hit the stumps there give it up batsman have given it up he said finally up inside the circle third man up inside the circle through the offside brad hatton at his best absolutely scream of this he got a find he's done it again james fortner oh he's a handy cricketer this guy just get\n"
          ]
        },
        {
          "output_type": "stream",
          "name": "stderr",
          "text": [
            "Your max_length is set to 142, but you input_length is only 105. You might consider decreasing max_length manually, e.g. summarizer('...', max_length=52)\n"
          ]
        },
        {
          "output_type": "stream",
          "name": "stdout",
          "text": [
            "Summarized text\n",
            " Brad Hatton at his best absolutely scream of this he got a find he's done it again . He smashed that it's come from nowhere maxwell goes to 11 stick or twist out he comes again it's flat enough to stay out of the hands of the fielder 10 off the last two an eventful over 12 runs and a wicket .\n",
            "input text \n",
            "s you home doesn't he [Applause] in manhattan have done a really good job here they've added 21 for this last wicket and they've got australia over the line and then two from two in this series well it's been a terrific game a terrific chase by australia india of rome and claus probably think that they've been 20 or 30 short but yeah well finished for live cricket all summer long go to cricket.com.edu subscribe or download the app today\n",
            "Summarized text\n",
            " Australia win the series 1-0 up against India at stumps on Tuesday night . India win their first Test match of the series against Australia in Brisbane . Australia are now 2-1 up in the series after winning the first two Test matches of the summer . The series is now level at 1-1 with Australia in the final two matches remaining .\n"
          ]
        }
      ],
      "source": [
        "num_iters = int(len(result)/1000)\n",
        "summarized_text = []\n",
        "for i in range(0, num_iters + 1):\n",
        "  start = 0\n",
        "  start = i * 1000\n",
        "  end = (i + 1) * 1000\n",
        "  print(\"input text \\n\" + result[start:end])\n",
        "  out = summarizer(result[start:end])\n",
        "  out = out[0]\n",
        "  out = out['summary_text']\n",
        "  print(\"Summarized text\\n\"+out)\n",
        "  summarized_text.append(out)\n",
        "\n",
        "#print(summarized_text)"
      ]
    },
    {
      "cell_type": "code",
      "execution_count": null,
      "metadata": {
        "id": "rLrIX_yJWHFo",
        "colab": {
          "base_uri": "https://localhost:8080/"
        },
        "outputId": "729e5bcb-1eb7-46d3-b74c-79711825dac6"
      },
      "outputs": [
        {
          "output_type": "execute_result",
          "data": {
            "text/plain": [
              "2428"
            ]
          },
          "metadata": {},
          "execution_count": 50
        }
      ],
      "source": [
        "len(str(summarized_text))"
      ]
    },
    {
      "cell_type": "code",
      "execution_count": null,
      "metadata": {
        "id": "31mkg8GbcddH",
        "colab": {
          "base_uri": "https://localhost:8080/",
          "height": 105
        },
        "outputId": "bbe72e7a-6ba4-49b1-efdc-79b6e791ad07"
      },
      "outputs": [
        {
          "output_type": "execute_result",
          "data": {
            "text/plain": [
              "'[\" sandhu\\'s got his first wicket it hasn\\'t taken long either you can certainly hit the ball hard oh that should be out that\\'s carly jumping back in the crease again and he\\'s outsmarted himself it\\'s a big wicket for australia a massive wicket [Applause]\", \" Bales has sliced up and over the infield the top spin makes it difficult and it\\'s made it eventually yeah yeah he won\\'t want a game off though he\\'s in such good form we want to play everything and play a club game again . 383 was too much oh inside edge very handy and that\\'s 90 now for sharma how do you believe that\\'s mr bales?\", \" Gauduly the neat hundred fork now into the attack and that\\'ll run away fine for a boundary that\\'s pretty easy for dhoni only come off the thigh though no it\\'s been given runs the australians two and a half overs of extra bowling and runs and that\\'s gone fine too fine for the third man even david warner couldn\\'t get there .\", \" nixon over from jaulkner just five from it india finished at eight for 267 run rate of 5.34 and it\\'s time time for our new south wales and victorian viewers you\\'re going to leave us now for the news we\\'ll see you back here in half an hour for the australian run chase .\", \" Shane watson is under the spinner early needs to do shane watson get himself moving second boundary oh watching down the ground with power how well is he playing tonight he loves the mcg and he\\'s lighting it up one for 98 . finch backs away cuts through the offside there\\'s three men on the ring no one behind very quickly into position .\", \" Steve smith\\'s innings comes to an end with 49 to win . He has finchy straight and long he likes the look of suresh rainer oh finchy ball straight down the ground [Applause] Finch has been the most prominent with twos he\\'s ten twos normally there\\'s more .\", \" Brad Hatton at his best absolutely scream of this he got a find he\\'s done it again . He smashed that it\\'s come from nowhere maxwell goes to 11 stick or twist out he comes again it\\'s flat enough to stay out of the hands of the fielder 10 off the last two an eventful over 12 runs and a wicket .\", \\' Australia win the series 1-0 up against India at stumps on Tuesday night . India win their first Test match of the series against Australia in Brisbane . Australia are now 2-1 up in the series after winning the first two Test matches of the summer . The series is now level at 1-1 with Australia in the final two matches remaining .\\']'"
            ],
            "application/vnd.google.colaboratory.intrinsic+json": {
              "type": "string"
            }
          },
          "metadata": {},
          "execution_count": 51
        }
      ],
      "source": [
        "str(summarized_text)"
      ]
    },
    {
      "cell_type": "code",
      "execution_count": null,
      "metadata": {
        "id": "F3X6nqKYhvgt"
      },
      "outputs": [],
      "source": []
    }
  ],
  "metadata": {
    "colab": {
      "provenance": [],
      "include_colab_link": true
    },
    "kernelspec": {
      "display_name": "Python 3",
      "name": "python3"
    },
    "language_info": {
      "name": "python"
    }
  },
  "nbformat": 4,
  "nbformat_minor": 0
}